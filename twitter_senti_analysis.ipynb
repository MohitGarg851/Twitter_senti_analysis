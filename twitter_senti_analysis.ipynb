{
 "cells": [
  {
   "cell_type": "code",
   "execution_count": 1,
   "metadata": {
    "collapsed": true
   },
   "outputs": [],
   "source": [
    "import pandas as pd\n",
    "import numpy as np\n",
    "import matplotlib.pyplot as plt\n",
    "import seaborn as sns"
   ]
  },
  {
   "cell_type": "code",
   "execution_count": 2,
   "metadata": {
    "collapsed": true
   },
   "outputs": [],
   "source": [
    "df = pd.read_csv('train_E6oV3lV.csv')"
   ]
  },
  {
   "cell_type": "code",
   "execution_count": 3,
   "metadata": {},
   "outputs": [
    {
     "name": "stdout",
     "output_type": "stream",
     "text": [
      "<class 'pandas.core.frame.DataFrame'>\n",
      "RangeIndex: 31962 entries, 0 to 31961\n",
      "Data columns (total 3 columns):\n",
      "id       31962 non-null int64\n",
      "label    31962 non-null int64\n",
      "tweet    31962 non-null object\n",
      "dtypes: int64(2), object(1)\n",
      "memory usage: 749.2+ KB\n"
     ]
    }
   ],
   "source": [
    "df.info()"
   ]
  },
  {
   "cell_type": "code",
   "execution_count": 4,
   "metadata": {},
   "outputs": [
    {
     "data": {
      "text/html": [
       "<div>\n",
       "<style>\n",
       "    .dataframe thead tr:only-child th {\n",
       "        text-align: right;\n",
       "    }\n",
       "\n",
       "    .dataframe thead th {\n",
       "        text-align: left;\n",
       "    }\n",
       "\n",
       "    .dataframe tbody tr th {\n",
       "        vertical-align: top;\n",
       "    }\n",
       "</style>\n",
       "<table border=\"1\" class=\"dataframe\">\n",
       "  <thead>\n",
       "    <tr style=\"text-align: right;\">\n",
       "      <th></th>\n",
       "      <th>id</th>\n",
       "      <th>label</th>\n",
       "      <th>tweet</th>\n",
       "    </tr>\n",
       "  </thead>\n",
       "  <tbody>\n",
       "    <tr>\n",
       "      <th>0</th>\n",
       "      <td>1</td>\n",
       "      <td>0</td>\n",
       "      <td>@user when a father is dysfunctional and is s...</td>\n",
       "    </tr>\n",
       "    <tr>\n",
       "      <th>1</th>\n",
       "      <td>2</td>\n",
       "      <td>0</td>\n",
       "      <td>@user @user thanks for #lyft credit i can't us...</td>\n",
       "    </tr>\n",
       "    <tr>\n",
       "      <th>2</th>\n",
       "      <td>3</td>\n",
       "      <td>0</td>\n",
       "      <td>bihday your majesty</td>\n",
       "    </tr>\n",
       "    <tr>\n",
       "      <th>3</th>\n",
       "      <td>4</td>\n",
       "      <td>0</td>\n",
       "      <td>#model   i love u take with u all the time in ...</td>\n",
       "    </tr>\n",
       "    <tr>\n",
       "      <th>4</th>\n",
       "      <td>5</td>\n",
       "      <td>0</td>\n",
       "      <td>factsguide: society now    #motivation</td>\n",
       "    </tr>\n",
       "  </tbody>\n",
       "</table>\n",
       "</div>"
      ],
      "text/plain": [
       "   id  label                                              tweet\n",
       "0   1      0   @user when a father is dysfunctional and is s...\n",
       "1   2      0  @user @user thanks for #lyft credit i can't us...\n",
       "2   3      0                                bihday your majesty\n",
       "3   4      0  #model   i love u take with u all the time in ...\n",
       "4   5      0             factsguide: society now    #motivation"
      ]
     },
     "execution_count": 4,
     "metadata": {},
     "output_type": "execute_result"
    }
   ],
   "source": [
    "df.head()"
   ]
  },
  {
   "cell_type": "code",
   "execution_count": 5,
   "metadata": {},
   "outputs": [
    {
     "data": {
      "text/plain": [
       "0    29720\n",
       "1     2242\n",
       "Name: label, dtype: int64"
      ]
     },
     "execution_count": 5,
     "metadata": {},
     "output_type": "execute_result"
    }
   ],
   "source": [
    "df['label'].value_counts()"
   ]
  },
  {
   "cell_type": "code",
   "execution_count": 6,
   "metadata": {
    "collapsed": true
   },
   "outputs": [],
   "source": [
    "# find sentences(if any) containing HTML tags\n",
    "import re\n",
    "i=0;\n",
    "for sent in df['tweet'].values:\n",
    "    if (len(re.findall('<.*?>', sent))):\n",
    "        print sent\n",
    "        break;\n",
    "    i += 1;    \n",
    "\n",
    "        "
   ]
  },
  {
   "cell_type": "code",
   "execution_count": 7,
   "metadata": {},
   "outputs": [
    {
     "name": "stdout",
     "output_type": "stream",
     "text": [
      "set([u'all', u'just', u'being', u'over', u'both', u'through', u'yourselves', u'its', u'before', u'o', u'hadn', u'herself', u'll', u'had', u'should', u'to', u'only', u'won', u'under', u'ours', u'has', u'do', u'them', u'his', u'very', u'they', u'not', u'during', u'now', u'him', u'nor', u'd', u'did', u'didn', u'this', u'she', u'each', u'further', u'where', u'few', u'because', u'doing', u'some', u'hasn', u'are', u'our', u'ourselves', u'out', u'what', u'for', u'while', u're', u'does', u'above', u'between', u'mustn', u't', u'be', u'we', u'who', u'were', u'here', u'shouldn', u'hers', u'by', u'on', u'about', u'couldn', u'of', u'against', u's', u'isn', u'or', u'own', u'into', u'yourself', u'down', u'mightn', u'wasn', u'your', u'from', u'her', u'their', u'aren', u'there', u'been', u'whom', u'too', u'wouldn', u'themselves', u'weren', u'was', u'until', u'more', u'himself', u'that', u'but', u'don', u'with', u'than', u'those', u'he', u'me', u'myself', u'ma', u'these', u'up', u'will', u'below', u'ain', u'can', u'theirs', u'my', u'and', u've', u'then', u'is', u'am', u'it', u'doesn', u'an', u'as', u'itself', u'at', u'have', u'in', u'any', u'if', u'again', u'no', u'when', u'same', u'how', u'other', u'which', u'you', u'shan', u'needn', u'haven', u'after', u'most', u'such', u'why', u'a', u'off', u'i', u'm', u'yours', u'so', u'y', u'the', u'having', u'once'])\n"
     ]
    }
   ],
   "source": [
    "from nltk.corpus import stopwords\n",
    "stop = set(stopwords.words('english'))\n",
    "print stop"
   ]
  },
  {
   "cell_type": "code",
   "execution_count": 8,
   "metadata": {},
   "outputs": [],
   "source": [
    "stop.discard('not')"
   ]
  },
  {
   "cell_type": "code",
   "execution_count": 9,
   "metadata": {},
   "outputs": [
    {
     "name": "stdout",
     "output_type": "stream",
     "text": [
      "blow\n"
     ]
    }
   ],
   "source": [
    "import string\n",
    "import nltk\n",
    "from nltk.corpus import stopwords\n",
    "from nltk.stem import PorterStemmer\n",
    "from nltk.stem.wordnet import WordNetLemmatizer\n",
    "\n",
    "stop = set(stop) #set of stopwords\n",
    "sno = nltk.stem.SnowballStemmer('english') #initialising the snowball stemmer\n",
    "\n",
    "def cleanhtml(sentence): #function to clean the word of any html-tags(if any)\n",
    "    cleanr = re.compile('<.*?>')\n",
    "    cleantext = re.sub(cleanr, ' ', sentence)\n",
    "    return cleantext\n",
    "def cleanpunc(sentence): #function to clean the word of any punctuation or special characters\n",
    "    cleaned = re.sub(r'[?|!|\\'|\"|#]',r'',sentence)\n",
    "    cleaned = re.sub(r'[.|,|)|(|\\|/]',r' ',cleaned)\n",
    "    return  cleaned\n",
    "\n",
    "print(sno.stem('blowing'))"
   ]
  },
  {
   "cell_type": "code",
   "execution_count": null,
   "metadata": {
    "collapsed": true
   },
   "outputs": [],
   "source": [
    "#preprocessing tweets"
   ]
  },
  {
   "cell_type": "code",
   "execution_count": 10,
   "metadata": {},
   "outputs": [],
   "source": [
    "i=0\n",
    "str1=' '\n",
    "final_string=[]\n",
    "all_positive_words=[] # store words from +ve reviews here\n",
    "all_negative_words=[] # store words from -ve reviews here.\n",
    "s=''\n",
    "for sent in df['tweet'].values:\n",
    "    filtered_sentence=[]\n",
    "    \n",
    "    sent=cleanhtml(sent) # remove HTMl tags\n",
    "    for word in sent.split():\n",
    "        for cleaned_words in cleanpunc(word).split():\n",
    "            if((cleaned_words.isalpha()) & (len(cleaned_words)>2)):    \n",
    "                if(cleaned_words.lower() not in stop):\n",
    "                    s=(sno.stem(cleaned_words.lower())).encode('utf8')\n",
    "                    filtered_sentence.append(s)\n",
    "                    if (df['label'].values)[i] == 1: \n",
    "                        all_positive_words.append(s) #list of all words used to describe positive reviews\n",
    "                    if(df['label'].values)[i] == 0:\n",
    "                        all_negative_words.append(s) #list of all words used to describe negative reviews reviews\n",
    "                else:\n",
    "                    continue\n",
    "            else:\n",
    "                continue \n",
    "    #print(filtered_sentence)\n",
    "    str1 = b\" \".join(filtered_sentence) #final string of cleaned words\n",
    "    #print(\"***********************************************************************\")\n",
    "    \n",
    "    final_string.append(str1)\n",
    "    i+=1"
   ]
  },
  {
   "cell_type": "code",
   "execution_count": 11,
   "metadata": {
    "collapsed": true
   },
   "outputs": [],
   "source": [
    "df['CleanedTweet']=final_string"
   ]
  },
  {
   "cell_type": "code",
   "execution_count": 13,
   "metadata": {},
   "outputs": [
    {
     "data": {
      "text/html": [
       "<div>\n",
       "<style>\n",
       "    .dataframe thead tr:only-child th {\n",
       "        text-align: right;\n",
       "    }\n",
       "\n",
       "    .dataframe thead th {\n",
       "        text-align: left;\n",
       "    }\n",
       "\n",
       "    .dataframe tbody tr th {\n",
       "        vertical-align: top;\n",
       "    }\n",
       "</style>\n",
       "<table border=\"1\" class=\"dataframe\">\n",
       "  <thead>\n",
       "    <tr style=\"text-align: right;\">\n",
       "      <th></th>\n",
       "      <th>id</th>\n",
       "      <th>label</th>\n",
       "      <th>tweet</th>\n",
       "      <th>CleanedTweet</th>\n",
       "    </tr>\n",
       "  </thead>\n",
       "  <tbody>\n",
       "    <tr>\n",
       "      <th>0</th>\n",
       "      <td>1</td>\n",
       "      <td>0</td>\n",
       "      <td>@user when a father is dysfunctional and is s...</td>\n",
       "      <td>father dysfunct selfish drag kid dysfunct run</td>\n",
       "    </tr>\n",
       "    <tr>\n",
       "      <th>1</th>\n",
       "      <td>2</td>\n",
       "      <td>0</td>\n",
       "      <td>@user @user thanks for #lyft credit i can't us...</td>\n",
       "      <td>thank lyft credit cant use caus dont offer whe...</td>\n",
       "    </tr>\n",
       "    <tr>\n",
       "      <th>2</th>\n",
       "      <td>3</td>\n",
       "      <td>0</td>\n",
       "      <td>bihday your majesty</td>\n",
       "      <td>bihday majesti</td>\n",
       "    </tr>\n",
       "    <tr>\n",
       "      <th>3</th>\n",
       "      <td>4</td>\n",
       "      <td>0</td>\n",
       "      <td>#model   i love u take with u all the time in ...</td>\n",
       "      <td>model love take time</td>\n",
       "    </tr>\n",
       "    <tr>\n",
       "      <th>4</th>\n",
       "      <td>5</td>\n",
       "      <td>0</td>\n",
       "      <td>factsguide: society now    #motivation</td>\n",
       "      <td>societi motiv</td>\n",
       "    </tr>\n",
       "    <tr>\n",
       "      <th>5</th>\n",
       "      <td>6</td>\n",
       "      <td>0</td>\n",
       "      <td>[2/2] huge fan fare and big talking before the...</td>\n",
       "      <td>huge fan fare big talk leav chao pay disput ge...</td>\n",
       "    </tr>\n",
       "    <tr>\n",
       "      <th>6</th>\n",
       "      <td>7</td>\n",
       "      <td>0</td>\n",
       "      <td>@user camping tomorrow @user @user @user @use...</td>\n",
       "      <td>camp tomorrow</td>\n",
       "    </tr>\n",
       "    <tr>\n",
       "      <th>7</th>\n",
       "      <td>8</td>\n",
       "      <td>0</td>\n",
       "      <td>the next school year is the year for exams.ð...</td>\n",
       "      <td>next school year year exam cant think school e...</td>\n",
       "    </tr>\n",
       "    <tr>\n",
       "      <th>8</th>\n",
       "      <td>9</td>\n",
       "      <td>0</td>\n",
       "      <td>we won!!! love the land!!! #allin #cavs #champ...</td>\n",
       "      <td>love land allin cav champion cleveland clevela...</td>\n",
       "    </tr>\n",
       "    <tr>\n",
       "      <th>9</th>\n",
       "      <td>10</td>\n",
       "      <td>0</td>\n",
       "      <td>@user @user welcome here !  i'm   it's so #gr...</td>\n",
       "      <td>welcom</td>\n",
       "    </tr>\n",
       "  </tbody>\n",
       "</table>\n",
       "</div>"
      ],
      "text/plain": [
       "   id  label                                              tweet  \\\n",
       "0   1      0   @user when a father is dysfunctional and is s...   \n",
       "1   2      0  @user @user thanks for #lyft credit i can't us...   \n",
       "2   3      0                                bihday your majesty   \n",
       "3   4      0  #model   i love u take with u all the time in ...   \n",
       "4   5      0             factsguide: society now    #motivation   \n",
       "5   6      0  [2/2] huge fan fare and big talking before the...   \n",
       "6   7      0   @user camping tomorrow @user @user @user @use...   \n",
       "7   8      0  the next school year is the year for exams.ð...   \n",
       "8   9      0  we won!!! love the land!!! #allin #cavs #champ...   \n",
       "9  10      0   @user @user welcome here !  i'm   it's so #gr...   \n",
       "\n",
       "                                        CleanedTweet  \n",
       "0      father dysfunct selfish drag kid dysfunct run  \n",
       "1  thank lyft credit cant use caus dont offer whe...  \n",
       "2                                     bihday majesti  \n",
       "3                               model love take time  \n",
       "4                                      societi motiv  \n",
       "5  huge fan fare big talk leav chao pay disput ge...  \n",
       "6                                      camp tomorrow  \n",
       "7  next school year year exam cant think school e...  \n",
       "8  love land allin cav champion cleveland clevela...  \n",
       "9                                             welcom  "
      ]
     },
     "execution_count": 13,
     "metadata": {},
     "output_type": "execute_result"
    }
   ],
   "source": [
    "df.head(10)"
   ]
  },
  {
   "cell_type": "code",
   "execution_count": 59,
   "metadata": {
    "collapsed": true
   },
   "outputs": [],
   "source": [
    "#applying BOW"
   ]
  },
  {
   "cell_type": "code",
   "execution_count": 14,
   "metadata": {},
   "outputs": [],
   "source": [
    "from sklearn.feature_extraction.text import CountVectorizer\n",
    "count_vect = CountVectorizer(ngram_range=(1,3) ) #in scikit-learn\n",
    "final_bigram_counts = count_vect.fit_transform(df['CleanedTweet'].values)"
   ]
  },
  {
   "cell_type": "code",
   "execution_count": 15,
   "metadata": {},
   "outputs": [
    {
     "data": {
      "text/plain": [
       "(31962, 306008)"
      ]
     },
     "execution_count": 15,
     "metadata": {},
     "output_type": "execute_result"
    }
   ],
   "source": [
    "final_bigram_counts.get_shape()"
   ]
  },
  {
   "cell_type": "code",
   "execution_count": 16,
   "metadata": {},
   "outputs": [],
   "source": [
    "from sklearn.decomposition import TruncatedSVD\n",
    "svd = TruncatedSVD(n_components=100,n_iter=5)\n",
    "svd_data = svd.fit_transform(final_bigram_counts)"
   ]
  },
  {
   "cell_type": "code",
   "execution_count": 17,
   "metadata": {},
   "outputs": [
    {
     "data": {
      "text/plain": [
       "(31962, 100)"
      ]
     },
     "execution_count": 17,
     "metadata": {},
     "output_type": "execute_result"
    }
   ],
   "source": [
    "svd_data.shape"
   ]
  },
  {
   "cell_type": "code",
   "execution_count": 61,
   "metadata": {},
   "outputs": [
    {
     "data": {
      "image/png": "[encoded data removed]",
      "text/plain": [
       "<matplotlib.figure.Figure at 0x7fb96ec2f710>"
      ]
     },
     "metadata": {},
     "output_type": "display_data"
    }
   ],
   "source": [
    "from sklearn.manifold import TSNE\n",
    "\n",
    "# Picking only 10k points TSNE takes a lot of time for ~32k points\n",
    "data_10k = svd_data[0:10000,:]\n",
    "labels_10k = df.label[0:10000]\n",
    "\n",
    "model = TSNE(n_components=2, random_state=0)\n",
    "# configuring the parameteres\n",
    "# the number of components = 2\n",
    "# default perplexity = 30\n",
    "# default learning rate = 200\n",
    "# default Maximum number of iterations for the optimization = 1000\n",
    "\n",
    "tsne_data = model.fit_transform(data_10k)\n",
    "\n",
    "\n",
    "# creating a new data frame which help us in ploting the result data\n",
    "tsne_data = np.vstack((tsne_data.T, labels_10k)).T\n",
    "tsne_df = pd.DataFrame(data=tsne_data, columns=(\"Dim_1\", \"Dim_2\", \"label\"))\n",
    "\n",
    "# Ploting the result of tsne\n",
    "sns.FacetGrid(tsne_df, hue=\"label\", size=6).map(plt.scatter, 'Dim_1', 'Dim_2').add_legend()\n",
    "plt.show()"
   ]
  },
  {
   "cell_type": "code",
   "execution_count": 18,
   "metadata": {},
   "outputs": [],
   "source": [
    "#forming new dataframe with 100 dimension obtained by svd as features.\n",
    "NEW_df = np.vstack((svd_data.T, df.label)).T\n",
    "NEW_df = pd.DataFrame(data=NEW_df)"
   ]
  },
  {
   "cell_type": "code",
   "execution_count": 19,
   "metadata": {},
   "outputs": [
    {
     "data": {
      "text/html": [
       "<div>\n",
       "<style>\n",
       "    .dataframe thead tr:only-child th {\n",
       "        text-align: right;\n",
       "    }\n",
       "\n",
       "    .dataframe thead th {\n",
       "        text-align: left;\n",
       "    }\n",
       "\n",
       "    .dataframe tbody tr th {\n",
       "        vertical-align: top;\n",
       "    }\n",
       "</style>\n",
       "<table border=\"1\" class=\"dataframe\">\n",
       "  <thead>\n",
       "    <tr style=\"text-align: right;\">\n",
       "      <th></th>\n",
       "      <th>0</th>\n",
       "      <th>1</th>\n",
       "      <th>2</th>\n",
       "      <th>3</th>\n",
       "      <th>4</th>\n",
       "      <th>5</th>\n",
       "      <th>6</th>\n",
       "      <th>7</th>\n",
       "      <th>8</th>\n",
       "      <th>9</th>\n",
       "      <th>...</th>\n",
       "      <th>91</th>\n",
       "      <th>92</th>\n",
       "      <th>93</th>\n",
       "      <th>94</th>\n",
       "      <th>95</th>\n",
       "      <th>96</th>\n",
       "      <th>97</th>\n",
       "      <th>98</th>\n",
       "      <th>99</th>\n",
       "      <th>100</th>\n",
       "    </tr>\n",
       "  </thead>\n",
       "  <tbody>\n",
       "    <tr>\n",
       "      <th>0</th>\n",
       "      <td>0.255260</td>\n",
       "      <td>-0.014828</td>\n",
       "      <td>-0.283188</td>\n",
       "      <td>-0.064628</td>\n",
       "      <td>-0.015186</td>\n",
       "      <td>-0.116501</td>\n",
       "      <td>0.072926</td>\n",
       "      <td>-0.003340</td>\n",
       "      <td>-0.020976</td>\n",
       "      <td>0.002634</td>\n",
       "      <td>...</td>\n",
       "      <td>-0.035363</td>\n",
       "      <td>-0.062783</td>\n",
       "      <td>-0.155302</td>\n",
       "      <td>-0.040407</td>\n",
       "      <td>0.040001</td>\n",
       "      <td>0.016231</td>\n",
       "      <td>0.041430</td>\n",
       "      <td>0.105714</td>\n",
       "      <td>0.010593</td>\n",
       "      <td>0.0</td>\n",
       "    </tr>\n",
       "    <tr>\n",
       "      <th>1</th>\n",
       "      <td>0.194021</td>\n",
       "      <td>-0.003718</td>\n",
       "      <td>-0.035412</td>\n",
       "      <td>0.850970</td>\n",
       "      <td>-0.017293</td>\n",
       "      <td>0.027285</td>\n",
       "      <td>0.003379</td>\n",
       "      <td>0.095277</td>\n",
       "      <td>0.259192</td>\n",
       "      <td>-0.004903</td>\n",
       "      <td>...</td>\n",
       "      <td>0.048942</td>\n",
       "      <td>0.023994</td>\n",
       "      <td>-0.022337</td>\n",
       "      <td>-0.031836</td>\n",
       "      <td>-0.009526</td>\n",
       "      <td>0.057994</td>\n",
       "      <td>0.092733</td>\n",
       "      <td>-0.027659</td>\n",
       "      <td>-0.031613</td>\n",
       "      <td>0.0</td>\n",
       "    </tr>\n",
       "    <tr>\n",
       "      <th>2</th>\n",
       "      <td>0.055608</td>\n",
       "      <td>-0.002627</td>\n",
       "      <td>-0.011024</td>\n",
       "      <td>0.011236</td>\n",
       "      <td>0.002843</td>\n",
       "      <td>0.110409</td>\n",
       "      <td>-0.085633</td>\n",
       "      <td>-0.035300</td>\n",
       "      <td>-0.018370</td>\n",
       "      <td>-0.061986</td>\n",
       "      <td>...</td>\n",
       "      <td>-0.019598</td>\n",
       "      <td>0.001176</td>\n",
       "      <td>-0.011132</td>\n",
       "      <td>-0.012831</td>\n",
       "      <td>0.012972</td>\n",
       "      <td>0.002879</td>\n",
       "      <td>0.000412</td>\n",
       "      <td>0.000969</td>\n",
       "      <td>0.010443</td>\n",
       "      <td>0.0</td>\n",
       "    </tr>\n",
       "    <tr>\n",
       "      <th>3</th>\n",
       "      <td>1.443400</td>\n",
       "      <td>-0.079882</td>\n",
       "      <td>1.781688</td>\n",
       "      <td>-0.293210</td>\n",
       "      <td>-0.078841</td>\n",
       "      <td>-0.898872</td>\n",
       "      <td>0.662405</td>\n",
       "      <td>0.102698</td>\n",
       "      <td>0.124810</td>\n",
       "      <td>-1.440517</td>\n",
       "      <td>...</td>\n",
       "      <td>0.020006</td>\n",
       "      <td>-0.013847</td>\n",
       "      <td>-0.024297</td>\n",
       "      <td>-0.017375</td>\n",
       "      <td>0.012278</td>\n",
       "      <td>-0.005350</td>\n",
       "      <td>0.013592</td>\n",
       "      <td>0.010216</td>\n",
       "      <td>0.005523</td>\n",
       "      <td>0.0</td>\n",
       "    </tr>\n",
       "    <tr>\n",
       "      <th>4</th>\n",
       "      <td>0.009450</td>\n",
       "      <td>-0.000218</td>\n",
       "      <td>0.001095</td>\n",
       "      <td>0.003777</td>\n",
       "      <td>0.001800</td>\n",
       "      <td>0.009772</td>\n",
       "      <td>-0.006672</td>\n",
       "      <td>0.001000</td>\n",
       "      <td>0.001385</td>\n",
       "      <td>0.002647</td>\n",
       "      <td>...</td>\n",
       "      <td>0.009653</td>\n",
       "      <td>0.020289</td>\n",
       "      <td>0.012449</td>\n",
       "      <td>-0.008024</td>\n",
       "      <td>0.019483</td>\n",
       "      <td>0.016260</td>\n",
       "      <td>0.024625</td>\n",
       "      <td>-0.041926</td>\n",
       "      <td>-0.002271</td>\n",
       "      <td>0.0</td>\n",
       "    </tr>\n",
       "  </tbody>\n",
       "</table>\n",
       "<p>5 rows × 101 columns</p>\n",
       "</div>"
      ],
      "text/plain": [
       "        0         1         2         3         4         5         6    \\\n",
       "0  0.255260 -0.014828 -0.283188 -0.064628 -0.015186 -0.116501  0.072926   \n",
       "1  0.194021 -0.003718 -0.035412  0.850970 -0.017293  0.027285  0.003379   \n",
       "2  0.055608 -0.002627 -0.011024  0.011236  0.002843  0.110409 -0.085633   \n",
       "3  1.443400 -0.079882  1.781688 -0.293210 -0.078841 -0.898872  0.662405   \n",
       "4  0.009450 -0.000218  0.001095  0.003777  0.001800  0.009772 -0.006672   \n",
       "\n",
       "        7         8         9   ...        91        92        93        94   \\\n",
       "0 -0.003340 -0.020976  0.002634 ...  -0.035363 -0.062783 -0.155302 -0.040407   \n",
       "1  0.095277  0.259192 -0.004903 ...   0.048942  0.023994 -0.022337 -0.031836   \n",
       "2 -0.035300 -0.018370 -0.061986 ...  -0.019598  0.001176 -0.011132 -0.012831   \n",
       "3  0.102698  0.124810 -1.440517 ...   0.020006 -0.013847 -0.024297 -0.017375   \n",
       "4  0.001000  0.001385  0.002647 ...   0.009653  0.020289  0.012449 -0.008024   \n",
       "\n",
       "        95        96        97        98        99   100  \n",
       "0  0.040001  0.016231  0.041430  0.105714  0.010593  0.0  \n",
       "1 -0.009526  0.057994  0.092733 -0.027659 -0.031613  0.0  \n",
       "2  0.012972  0.002879  0.000412  0.000969  0.010443  0.0  \n",
       "3  0.012278 -0.005350  0.013592  0.010216  0.005523  0.0  \n",
       "4  0.019483  0.016260  0.024625 -0.041926 -0.002271  0.0  \n",
       "\n",
       "[5 rows x 101 columns]"
      ]
     },
     "execution_count": 19,
     "metadata": {},
     "output_type": "execute_result"
    }
   ],
   "source": [
    "NEW_df.head()"
   ]
  },
  {
   "cell_type": "code",
   "execution_count": 20,
   "metadata": {},
   "outputs": [
    {
     "data": {
      "text/plain": [
       "0.0    29720\n",
       "1.0     2242\n",
       "Name: 100, dtype: int64"
      ]
     },
     "execution_count": 20,
     "metadata": {},
     "output_type": "execute_result"
    }
   ],
   "source": [
    "NEW_df[100].value_counts()"
   ]
  },
  {
   "cell_type": "code",
   "execution_count": 21,
   "metadata": {},
   "outputs": [
    {
     "data": {
      "text/plain": [
       "1.0    29720\n",
       "0.0    29720\n",
       "Name: 100, dtype: int64"
      ]
     },
     "execution_count": 21,
     "metadata": {},
     "output_type": "execute_result"
    }
   ],
   "source": [
    "#upsampling process to equals no of label category...\n",
    "from sklearn.utils import resample\n",
    "majority = NEW_df[NEW_df[100]==0]\n",
    "minority = NEW_df[NEW_df[100]==1]\n",
    " \n",
    "# Upsample minority class\n",
    "minority_upsampled = resample(minority, \n",
    "                                 replace=True,     # sample with replacement\n",
    "                                 n_samples=29720,    # to match majority class\n",
    "                                 ) # reproducible results\n",
    " \n",
    "# Combine majority class with upsampled minority class\n",
    "NEW_df = pd.concat([majority, minority_upsampled])\n",
    " \n",
    "# Display new class counts\n",
    "NEW_df[100].value_counts()\n"
   ]
  },
  {
   "cell_type": "code",
   "execution_count": 22,
   "metadata": {},
   "outputs": [
    {
     "data": {
      "text/html": [
       "<div>\n",
       "<style>\n",
       "    .dataframe thead tr:only-child th {\n",
       "        text-align: right;\n",
       "    }\n",
       "\n",
       "    .dataframe thead th {\n",
       "        text-align: left;\n",
       "    }\n",
       "\n",
       "    .dataframe tbody tr th {\n",
       "        vertical-align: top;\n",
       "    }\n",
       "</style>\n",
       "<table border=\"1\" class=\"dataframe\">\n",
       "  <thead>\n",
       "    <tr style=\"text-align: right;\">\n",
       "      <th></th>\n",
       "      <th>0</th>\n",
       "      <th>1</th>\n",
       "      <th>2</th>\n",
       "      <th>3</th>\n",
       "      <th>4</th>\n",
       "      <th>5</th>\n",
       "      <th>6</th>\n",
       "      <th>7</th>\n",
       "      <th>8</th>\n",
       "      <th>9</th>\n",
       "      <th>...</th>\n",
       "      <th>91</th>\n",
       "      <th>92</th>\n",
       "      <th>93</th>\n",
       "      <th>94</th>\n",
       "      <th>95</th>\n",
       "      <th>96</th>\n",
       "      <th>97</th>\n",
       "      <th>98</th>\n",
       "      <th>99</th>\n",
       "      <th>100</th>\n",
       "    </tr>\n",
       "  </thead>\n",
       "  <tbody>\n",
       "    <tr>\n",
       "      <th>0</th>\n",
       "      <td>0.255260</td>\n",
       "      <td>-0.014828</td>\n",
       "      <td>-0.283188</td>\n",
       "      <td>-0.064628</td>\n",
       "      <td>-0.015186</td>\n",
       "      <td>-0.116501</td>\n",
       "      <td>0.072926</td>\n",
       "      <td>-0.003340</td>\n",
       "      <td>-0.020976</td>\n",
       "      <td>0.002634</td>\n",
       "      <td>...</td>\n",
       "      <td>-0.035363</td>\n",
       "      <td>-0.062783</td>\n",
       "      <td>-0.155302</td>\n",
       "      <td>-0.040407</td>\n",
       "      <td>0.040001</td>\n",
       "      <td>0.016231</td>\n",
       "      <td>0.041430</td>\n",
       "      <td>0.105714</td>\n",
       "      <td>0.010593</td>\n",
       "      <td>0.0</td>\n",
       "    </tr>\n",
       "    <tr>\n",
       "      <th>1</th>\n",
       "      <td>0.194021</td>\n",
       "      <td>-0.003718</td>\n",
       "      <td>-0.035412</td>\n",
       "      <td>0.850970</td>\n",
       "      <td>-0.017293</td>\n",
       "      <td>0.027285</td>\n",
       "      <td>0.003379</td>\n",
       "      <td>0.095277</td>\n",
       "      <td>0.259192</td>\n",
       "      <td>-0.004903</td>\n",
       "      <td>...</td>\n",
       "      <td>0.048942</td>\n",
       "      <td>0.023994</td>\n",
       "      <td>-0.022337</td>\n",
       "      <td>-0.031836</td>\n",
       "      <td>-0.009526</td>\n",
       "      <td>0.057994</td>\n",
       "      <td>0.092733</td>\n",
       "      <td>-0.027659</td>\n",
       "      <td>-0.031613</td>\n",
       "      <td>0.0</td>\n",
       "    </tr>\n",
       "    <tr>\n",
       "      <th>2</th>\n",
       "      <td>0.055608</td>\n",
       "      <td>-0.002627</td>\n",
       "      <td>-0.011024</td>\n",
       "      <td>0.011236</td>\n",
       "      <td>0.002843</td>\n",
       "      <td>0.110409</td>\n",
       "      <td>-0.085633</td>\n",
       "      <td>-0.035300</td>\n",
       "      <td>-0.018370</td>\n",
       "      <td>-0.061986</td>\n",
       "      <td>...</td>\n",
       "      <td>-0.019598</td>\n",
       "      <td>0.001176</td>\n",
       "      <td>-0.011132</td>\n",
       "      <td>-0.012831</td>\n",
       "      <td>0.012972</td>\n",
       "      <td>0.002879</td>\n",
       "      <td>0.000412</td>\n",
       "      <td>0.000969</td>\n",
       "      <td>0.010443</td>\n",
       "      <td>0.0</td>\n",
       "    </tr>\n",
       "    <tr>\n",
       "      <th>3</th>\n",
       "      <td>1.443400</td>\n",
       "      <td>-0.079882</td>\n",
       "      <td>1.781688</td>\n",
       "      <td>-0.293210</td>\n",
       "      <td>-0.078841</td>\n",
       "      <td>-0.898872</td>\n",
       "      <td>0.662405</td>\n",
       "      <td>0.102698</td>\n",
       "      <td>0.124810</td>\n",
       "      <td>-1.440517</td>\n",
       "      <td>...</td>\n",
       "      <td>0.020006</td>\n",
       "      <td>-0.013847</td>\n",
       "      <td>-0.024297</td>\n",
       "      <td>-0.017375</td>\n",
       "      <td>0.012278</td>\n",
       "      <td>-0.005350</td>\n",
       "      <td>0.013592</td>\n",
       "      <td>0.010216</td>\n",
       "      <td>0.005523</td>\n",
       "      <td>0.0</td>\n",
       "    </tr>\n",
       "    <tr>\n",
       "      <th>4</th>\n",
       "      <td>0.009450</td>\n",
       "      <td>-0.000218</td>\n",
       "      <td>0.001095</td>\n",
       "      <td>0.003777</td>\n",
       "      <td>0.001800</td>\n",
       "      <td>0.009772</td>\n",
       "      <td>-0.006672</td>\n",
       "      <td>0.001000</td>\n",
       "      <td>0.001385</td>\n",
       "      <td>0.002647</td>\n",
       "      <td>...</td>\n",
       "      <td>0.009653</td>\n",
       "      <td>0.020289</td>\n",
       "      <td>0.012449</td>\n",
       "      <td>-0.008024</td>\n",
       "      <td>0.019483</td>\n",
       "      <td>0.016260</td>\n",
       "      <td>0.024625</td>\n",
       "      <td>-0.041926</td>\n",
       "      <td>-0.002271</td>\n",
       "      <td>0.0</td>\n",
       "    </tr>\n",
       "  </tbody>\n",
       "</table>\n",
       "<p>5 rows × 101 columns</p>\n",
       "</div>"
      ],
      "text/plain": [
       "        0         1         2         3         4         5         6    \\\n",
       "0  0.255260 -0.014828 -0.283188 -0.064628 -0.015186 -0.116501  0.072926   \n",
       "1  0.194021 -0.003718 -0.035412  0.850970 -0.017293  0.027285  0.003379   \n",
       "2  0.055608 -0.002627 -0.011024  0.011236  0.002843  0.110409 -0.085633   \n",
       "3  1.443400 -0.079882  1.781688 -0.293210 -0.078841 -0.898872  0.662405   \n",
       "4  0.009450 -0.000218  0.001095  0.003777  0.001800  0.009772 -0.006672   \n",
       "\n",
       "        7         8         9   ...        91        92        93        94   \\\n",
       "0 -0.003340 -0.020976  0.002634 ...  -0.035363 -0.062783 -0.155302 -0.040407   \n",
       "1  0.095277  0.259192 -0.004903 ...   0.048942  0.023994 -0.022337 -0.031836   \n",
       "2 -0.035300 -0.018370 -0.061986 ...  -0.019598  0.001176 -0.011132 -0.012831   \n",
       "3  0.102698  0.124810 -1.440517 ...   0.020006 -0.013847 -0.024297 -0.017375   \n",
       "4  0.001000  0.001385  0.002647 ...   0.009653  0.020289  0.012449 -0.008024   \n",
       "\n",
       "        95        96        97        98        99   100  \n",
       "0  0.040001  0.016231  0.041430  0.105714  0.010593  0.0  \n",
       "1 -0.009526  0.057994  0.092733 -0.027659 -0.031613  0.0  \n",
       "2  0.012972  0.002879  0.000412  0.000969  0.010443  0.0  \n",
       "3  0.012278 -0.005350  0.013592  0.010216  0.005523  0.0  \n",
       "4  0.019483  0.016260  0.024625 -0.041926 -0.002271  0.0  \n",
       "\n",
       "[5 rows x 101 columns]"
      ]
     },
     "execution_count": 22,
     "metadata": {},
     "output_type": "execute_result"
    }
   ],
   "source": [
    "NEW_df.head()"
   ]
  },
  {
   "cell_type": "code",
   "execution_count": 23,
   "metadata": {
    "collapsed": true
   },
   "outputs": [],
   "source": [
    "X = NEW_df.iloc[:,:-1].values\n",
    "y = NEW_df.iloc[:,-1].values"
   ]
  },
  {
   "cell_type": "code",
   "execution_count": 24,
   "metadata": {},
   "outputs": [
    {
     "data": {
      "text/plain": [
       "((59440, 100), (59440,))"
      ]
     },
     "execution_count": 24,
     "metadata": {},
     "output_type": "execute_result"
    }
   ],
   "source": [
    "X.shape , y.shape"
   ]
  },
  {
   "cell_type": "markdown",
   "metadata": {},
   "source": [
    "Due to upsampling datapoints belong to category label '0' and '1' are not randomized instead np.array X contains first all 0 category datapoints and then 1 category datapoints \n",
    "hence in order to randomized it, so that X_train & X_test consist of equal no of both 0 & 1 labelled points \n",
    "We can split X in such a way as tried below"
   ]
  },
  {
   "cell_type": "code",
   "execution_count": 25,
   "metadata": {
    "collapsed": true
   },
   "outputs": [],
   "source": [
    "n_train = int(X.shape[0]*0.7)\n",
    "index_tr = np.random.choice(X.shape[0], n_train, replace=False) \n",
    "\n",
    "index_te = []\n",
    "for i in range(X.shape[0]):\n",
    "    if i not in index_tr:\n",
    "        index_te.append(i)\n",
    "    else:\n",
    "        continue\n",
    "        \n",
    "index_te = np.array(index_te)"
   ]
  },
  {
   "cell_type": "code",
   "execution_count": 26,
   "metadata": {},
   "outputs": [
    {
     "name": "stdout",
     "output_type": "stream",
     "text": [
      "(41608,) (17832,)\n"
     ]
    }
   ],
   "source": [
    "print index_tr.shape , index_te.shape"
   ]
  },
  {
   "cell_type": "code",
   "execution_count": 27,
   "metadata": {
    "collapsed": true
   },
   "outputs": [],
   "source": [
    "X_train = X[index_tr]\n",
    "y_train = y[index_tr]\n",
    "X_test = X[index_te]\n",
    "y_test = y[index_te]"
   ]
  },
  {
   "cell_type": "code",
   "execution_count": 28,
   "metadata": {},
   "outputs": [
    {
     "name": "stdout",
     "output_type": "stream",
     "text": [
      "(41608, 100) (41608,) (17832, 100) (17832,)\n"
     ]
    }
   ],
   "source": [
    "print X_train.shape, y_train.shape, X_test.shape , y_test.shape"
   ]
  },
  {
   "cell_type": "code",
   "execution_count": 29,
   "metadata": {
    "collapsed": true
   },
   "outputs": [],
   "source": [
    "#feature scaling using standarization\n",
    "from sklearn.preprocessing import StandardScaler\n",
    "sc_X = StandardScaler()\n",
    "X_train = sc_X.fit_transform(X_train)\n",
    "X_test = sc_X.transform(X_test)"
   ]
  },
  {
   "cell_type": "code",
   "execution_count": 30,
   "metadata": {},
   "outputs": [
    {
     "data": {
      "text/plain": [
       "{0.0: 20839, 1.0: 20769}"
      ]
     },
     "execution_count": 30,
     "metadata": {},
     "output_type": "execute_result"
    }
   ],
   "source": [
    "unique, counts = np.unique(y_train, return_counts=True)\n",
    "dict(zip(unique, counts))"
   ]
  },
  {
   "cell_type": "code",
   "execution_count": 31,
   "metadata": {
    "collapsed": true
   },
   "outputs": [],
   "source": [
    "X_train_pos = []\n",
    "X_train_neg = []\n",
    "y_train_pos = []\n",
    "y_train_neg = []\n",
    "\n",
    "for i in range(y_train.shape[0]):\n",
    "    if y_train[i] == 0 :\n",
    "        X_train_neg.append(X_train[i])\n",
    "        y_train_neg.append(y_train[i])\n",
    "    elif y_train[i] ==1:\n",
    "        X_train_pos.append(X_train[i])\n",
    "        y_train_pos.append(y_train[i])\n",
    "        \n",
    "\n",
    "        \n",
    "X_train_pos = np.array(X_train_pos)\n",
    "X_train_neg = np.array(X_train_neg)\n",
    "y_train_pos = np.array(y_train_pos)\n",
    "y_train_neg = np.array(y_train_neg)\n",
    "        "
   ]
  },
  {
   "cell_type": "code",
   "execution_count": 32,
   "metadata": {
    "collapsed": true
   },
   "outputs": [],
   "source": [
    "# applying  lof on pos(1) labelled points\n",
    "from sklearn.neighbors import LocalOutlierFactor\n",
    "lof = LocalOutlierFactor(n_neighbors=20)\n",
    "pred_lof_pos = lof.fit_predict(X_train_pos)\n"
   ]
  },
  {
   "cell_type": "code",
   "execution_count": 33,
   "metadata": {},
   "outputs": [
    {
     "data": {
      "text/plain": [
       "{-1: 2082, 1: 18687}"
      ]
     },
     "execution_count": 33,
     "metadata": {},
     "output_type": "execute_result"
    }
   ],
   "source": [
    "# counting no of outlier\n",
    "unique, counts = np.unique(pred_lof_pos, return_counts=True)\n",
    "dict(zip(unique, counts))"
   ]
  },
  {
   "cell_type": "code",
   "execution_count": 34,
   "metadata": {
    "collapsed": true
   },
   "outputs": [],
   "source": [
    "# removing outlier\n",
    "X_tr_pos = []\n",
    "y_tr_pos = []\n",
    "for i in range(X_train_pos.shape[0]):\n",
    "    if pred_lof_pos[i] == 1:\n",
    "        X_tr_pos.append(X_train_pos[i])\n",
    "        y_tr_pos.append(y_train_pos[i])\n",
    "    else:\n",
    "        continue\n",
    "        \n",
    "X_tr_pos = np.array(X_tr_pos)\n",
    "y_tr_pos = np.array(y_tr_pos)\n"
   ]
  },
  {
   "cell_type": "code",
   "execution_count": 35,
   "metadata": {
    "collapsed": true
   },
   "outputs": [],
   "source": [
    "#applying lof on negative(0) labelled points\n",
    "pred_lof_neg = lof.fit_predict(X_train_neg)"
   ]
  },
  {
   "cell_type": "code",
   "execution_count": 36,
   "metadata": {},
   "outputs": [
    {
     "data": {
      "text/plain": [
       "{-1: 2084, 1: 18755}"
      ]
     },
     "execution_count": 36,
     "metadata": {},
     "output_type": "execute_result"
    }
   ],
   "source": [
    "# counting no of outliers in negative points\n",
    "unique, counts = np.unique(pred_lof_neg, return_counts=True)\n",
    "dict(zip(unique, counts))"
   ]
  },
  {
   "cell_type": "code",
   "execution_count": 37,
   "metadata": {
    "collapsed": true
   },
   "outputs": [],
   "source": [
    "#removing negative type outlier\n",
    "X_tr_neg = []\n",
    "y_tr_neg = []\n",
    "for i in range(X_train_neg.shape[0]):\n",
    "    if pred_lof_neg[i] == 1:\n",
    "        X_tr_neg.append(X_train_neg[i])\n",
    "        y_tr_neg.append(y_train_neg[i])\n",
    "    else:\n",
    "        continue\n",
    "        \n",
    "X_tr_neg = np.array(X_tr_neg)\n",
    "y_tr_neg = np.array(y_tr_neg)\n"
   ]
  },
  {
   "cell_type": "code",
   "execution_count": 38,
   "metadata": {},
   "outputs": [
    {
     "name": "stdout",
     "output_type": "stream",
     "text": [
      "(18755, 100) (18755,)\n"
     ]
    }
   ],
   "source": [
    "print X_tr_neg.shape , y_tr_neg.shape"
   ]
  },
  {
   "cell_type": "code",
   "execution_count": 39,
   "metadata": {
    "collapsed": true
   },
   "outputs": [],
   "source": [
    "# concatenation after outlier removal to form X_train\n",
    "X_train = np.concatenate((X_tr_pos,X_tr_neg) , axis =0)\n",
    "y_train = np.concatenate((y_tr_pos,y_tr_neg), axis =0)"
   ]
  },
  {
   "cell_type": "code",
   "execution_count": 40,
   "metadata": {},
   "outputs": [
    {
     "name": "stdout",
     "output_type": "stream",
     "text": [
      "(37442, 100) (37442,)\n"
     ]
    }
   ],
   "source": [
    "print X_train.shape , y_train.shape"
   ]
  },
  {
   "cell_type": "code",
   "execution_count": 46,
   "metadata": {},
   "outputs": [
    {
     "data": {
      "text/plain": [
       "LogisticRegression(C=1.0, class_weight=None, dual=False, fit_intercept=True,\n",
       "          intercept_scaling=1, max_iter=100, multi_class='ovr', n_jobs=1,\n",
       "          penalty='l2', random_state=None, solver='liblinear', tol=0.0001,\n",
       "          verbose=0, warm_start=False)"
      ]
     },
     "execution_count": 46,
     "metadata": {},
     "output_type": "execute_result"
    }
   ],
   "source": [
    "from sklearn.linear_model import LogisticRegression\n",
    "lrc  = LogisticRegression()\n",
    "lrc.fit(X_train, y_train)"
   ]
  },
  {
   "cell_type": "code",
   "execution_count": 49,
   "metadata": {},
   "outputs": [
    {
     "data": {
      "text/plain": [
       "78.20771646478242"
      ]
     },
     "execution_count": 49,
     "metadata": {},
     "output_type": "execute_result"
    }
   ],
   "source": [
    "pred = lrc.predict(X_test)\n",
    "accuracy_score(y_test, pred) * 100"
   ]
  },
  {
   "cell_type": "code",
   "execution_count": 55,
   "metadata": {
    "collapsed": true
   },
   "outputs": [],
   "source": [
    "# using rfe for feature selection\n",
    "from sklearn.feature_selection import RFE\n",
    "from sklearn.linear_model import LogisticRegression\n",
    "log_rfe = LogisticRegression()\n",
    "\n",
    "rfe = RFE(log_rfe, 80)\n",
    "rfe = rfe.fit(X_train, y_train)"
   ]
  },
  {
   "cell_type": "code",
   "execution_count": 56,
   "metadata": {
    "collapsed": true
   },
   "outputs": [],
   "source": [
    "X_tr = rfe.fit_transform(X_train , y_train)\n",
    "X_te = rfe.transform(X_test)"
   ]
  },
  {
   "cell_type": "code",
   "execution_count": 57,
   "metadata": {},
   "outputs": [
    {
     "data": {
      "text/plain": [
       "LogisticRegression(C=1.0, class_weight=None, dual=False, fit_intercept=True,\n",
       "          intercept_scaling=1, max_iter=100, multi_class='ovr', n_jobs=1,\n",
       "          penalty='l2', random_state=None, solver='liblinear', tol=0.0001,\n",
       "          verbose=0, warm_start=False)"
      ]
     },
     "execution_count": 57,
     "metadata": {},
     "output_type": "execute_result"
    }
   ],
   "source": [
    "from sklearn.linear_model import LogisticRegression\n",
    "lrc  = LogisticRegression()\n",
    "lrc.fit(X_tr, y_train)"
   ]
  },
  {
   "cell_type": "code",
   "execution_count": 58,
   "metadata": {},
   "outputs": [
    {
     "data": {
      "text/plain": [
       "78.07873485868102"
      ]
     },
     "execution_count": 58,
     "metadata": {},
     "output_type": "execute_result"
    }
   ],
   "source": [
    "pred = lrc.predict(X_te)\n",
    "accuracy_score(y_test, pred) * 100"
   ]
  },
  {
   "cell_type": "code",
   "execution_count": null,
   "metadata": {
    "collapsed": true
   },
   "outputs": [],
   "source": []
  }
 ],
 "metadata": {
  "kernelspec": {
   "display_name": "Python 2",
   "language": "python",
   "name": "python2"
  },
  "language_info": {
   "codemirror_mode": {
    "name": "ipython",
    "version": 2
   },
   "file_extension": ".py",
   "mimetype": "text/x-python",
   "name": "python",
   "nbconvert_exporter": "python",
   "pygments_lexer": "ipython2",
   "version": "2.7.12"
  }
 },
 "nbformat": 4,
 "nbformat_minor": 2
}
